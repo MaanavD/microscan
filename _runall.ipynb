{
 "cells": [
  {
   "cell_type": "code",
   "execution_count": 4,
   "metadata": {},
   "outputs": [
    {
     "name": "stdout",
     "output_type": "stream",
     "text": [
      "200\n",
      "200\n",
      "200\n",
      "200\n",
      "200\n"
     ]
    }
   ],
   "source": [
    "import cv2\n",
    "import glob\n",
    "import numpy as np\n",
    "import matplotlib.pyplot as plt\n",
    "from matplotlib.backends.backend_pdf import PdfPages\n",
    "from flaskapp.imaging import MicroStructure\n",
    "\n",
    "dir_path = \"data/base microstructure\"\n",
    "img_paths = sorted(glob.glob(\"{}/image_*.png\".format(dir_path)))\n",
    "gb_mask_paths = sorted(glob.glob(\"{}/gbmask_*.png\".format(dir_path)))\n",
    "lam_mask_paths = sorted(glob.glob(\"{}/lammask_*.png\".format(dir_path)))\n",
    "p1_mask_paths = sorted(glob.glob(\"{}/p1mask_*.png\".format(dir_path)))\n",
    "p2_mask_paths = sorted(glob.glob(\"{}/p2mask_*.png\".format(dir_path)))\n",
    "\n",
    "print(len(img_paths))\n",
    "print(len(gb_mask_paths))\n",
    "print(len(lam_mask_paths))\n",
    "print(len(p1_mask_paths))\n",
    "print(len(p2_mask_paths))\n",
    "\n",
    "assert len(img_paths) == len(gb_mask_paths) == len(lam_mask_paths) == len(p1_mask_paths) == len(p2_mask_paths)\n",
    "\n",
    "# plot_all([img, gb_mask, prec_mask, lam_mask, p1_mask, p2_mask])"
   ]
  },
  {
   "cell_type": "code",
   "execution_count": 5,
   "metadata": {},
   "outputs": [],
   "source": [
    "def visit(img_path, gb_mask_path, lam_mask_path, p1_mask_path, p2_mask_path):\n",
    "    mc = MicroStructure(img_path)\n",
    "    \n",
    "    img = cv2.imread(img_path, cv2.IMREAD_GRAYSCALE)\n",
    "    gb_mask = cv2.imread(gb_mask_path, cv2.IMREAD_GRAYSCALE)\n",
    "    lam_mask = cv2.imread(lam_mask_path, cv2.IMREAD_GRAYSCALE)\n",
    "    p1_mask = cv2.imread(p1_mask_path, cv2.IMREAD_GRAYSCALE)\n",
    "    p2_mask = cv2.imread(p2_mask_path, cv2.IMREAD_GRAYSCALE)\n",
    "    \n",
    "    images = (\n",
    "        gb_mask, \n",
    "        mc.grain_mask, \n",
    "        lam_mask, \n",
    "        mc.line_mask, \n",
    "        p1_mask, \n",
    "        mc.dark_mask, \n",
    "        p2_mask, \n",
    "        mc.white_mask\n",
    "    )\n",
    "    titles = ( \n",
    "        \"correct grain boundary\",\n",
    "        \"predicted grain boundary\",\n",
    "        \"correct line phase\",\n",
    "        \"predicted line phase\",\n",
    "        \"correct dark phase\",\n",
    "        \"predicted dark phase\",\n",
    "        \"correct white phase\",\n",
    "        \"predicted white phase\",\n",
    "    )\n",
    "    \n",
    "    columns = 2\n",
    "    rows = 5\n",
    "    fig, axs = plt.subplots(rows, columns, figsize=(30,18*3-9), constrained_layout=True)\n",
    "    fig.suptitle(img_path, fontsize=30)\n",
    "    axs = axs.flatten()\n",
    "    \n",
    "    axs[0].imshow(img, cmap=\"gray\")\n",
    "    axs[0].set_title(\"original\")\n",
    "    axs[0].axis('off')\n",
    "    \n",
    "    def compute_phase_fraction(mask):\n",
    "        pixels = mask.flatten()\n",
    "        white_pixels = len([p for p in pixels if p])\n",
    "        fraction = white_pixels / len(pixels)\n",
    "        return fraction\n",
    "    \n",
    "    class Grain:\n",
    "        def __init__(self, contour):\n",
    "            self.contour = contour\n",
    "            self.area = cv2.contourArea(self.contour)\n",
    "            self.diameter = (4 * self.area / np.pi)**0.5\n",
    "\n",
    "    def compute_diameters_line_approx(image):\n",
    "        image = cv2.bitwise_not(image)\n",
    "        contours, hierarchy = cv2.findContours(image, cv2.RETR_LIST, cv2.CHAIN_APPROX_SIMPLE)\n",
    "\n",
    "        valid_contours = []\n",
    "        for contour in contours:\n",
    "            if cv2.contourArea(contour) > 1e3 and cv2.contourArea(contour) < 1e5:\n",
    "                valid_contours.append(contour)\n",
    "\n",
    "        grains = []\n",
    "        for vc in valid_contours:\n",
    "            grains.append(Grain(vc))\n",
    "\n",
    "        correct_average_grain_diameter = sum([g.diameter for g in grains]) / len(grains)\n",
    "        return correct_average_grain_diameter\n",
    "    \n",
    "    correct_dark_frac = compute_phase_fraction(p1_mask)\n",
    "    correct_light_frac = compute_phase_fraction(p2_mask)\n",
    "    correct_line_frac = compute_phase_fraction(lam_mask)\n",
    "    correct_ave_diameter = compute_diameters_line_approx(gb_mask)\n",
    "    \n",
    "    table_data=[\n",
    "        [\"metric\", \"correct\", \"predicted\", \"error\"],\n",
    "        [\"dark frac\", \"%.3f\"%correct_dark_frac, \"%.3f\"%mc.dark_fraction, \"{0:.3f}%\".format(abs(correct_dark_frac-mc.dark_fraction)*100)],\n",
    "        [\"white frac\", \"%.3f\"%correct_light_frac, \"%.3f\"%mc.light_fraction, \"{0:.3f}%\".format(abs(correct_light_frac-mc.light_fraction)*100)],\n",
    "        [\"line frac\", \"%.3f\"%correct_line_frac, \"%.3f\"%mc.line_fraction, \"{0:.3f}%\".format(abs(correct_line_frac-mc.line_fraction)*100)],\n",
    "        [\"ave grain diameter\", \"%.3f\"%correct_ave_diameter, \"%.3f\"%mc.average_grain_diameter, \"{0:.3f}%\".format(abs(correct_ave_diameter-mc.average_grain_diameter)/correct_ave_diameter*100)],\n",
    "    ]\n",
    "    table = axs[1].table(cellText=table_data, loc='best')\n",
    "    table.set_fontsize(16)\n",
    "    table.scale(1,3)\n",
    "    axs[1].set_title(\"metrics\")\n",
    "    axs[1].axis('off')\n",
    "    \n",
    "    for ax, image, title in zip(axs[2:], images, titles):\n",
    "        ax.imshow(image, cmap=\"gray\")\n",
    "        ax.set_title(title)\n",
    "        ax.axis('off')\n",
    "    \n",
    "    return fig"
   ]
  },
  {
   "cell_type": "code",
   "execution_count": 6,
   "metadata": {},
   "outputs": [
    {
     "name": "stdout",
     "output_type": "stream",
     "text": [
      "0/200\n",
      "10/200\n"
     ]
    },
    {
     "name": "stderr",
     "output_type": "stream",
     "text": [
      "/Users/jay/.pyenv/versions/3.7.5/envs/microscan/lib/python3.7/site-packages/ipykernel_launcher.py:33: RuntimeWarning: More than 20 figures have been opened. Figures created through the pyplot interface (`matplotlib.pyplot.figure`) are retained until explicitly closed and may consume too much memory. (To control this warning, see the rcParam `figure.max_open_warning`).\n"
     ]
    },
    {
     "name": "stdout",
     "output_type": "stream",
     "text": [
      "20/200\n",
      "30/200\n",
      "40/200\n",
      "50/200\n",
      "60/200\n",
      "70/200\n",
      "80/200\n",
      "90/200\n",
      "100/200\n",
      "110/200\n",
      "120/200\n",
      "130/200\n",
      "140/200\n",
      "150/200\n",
      "160/200\n",
      "170/200\n",
      "180/200\n",
      "190/200\n"
     ]
    }
   ],
   "source": [
    "pp = PdfPages('foo.pdf')\n",
    "\n",
    "total = len(img_paths)\n",
    "for i,pths in enumerate(zip(img_paths, gb_mask_paths, lam_mask_paths, p1_mask_paths, p2_mask_paths)):\n",
    "    if i % 10 == 0:\n",
    "        print(\"{}/{}\".format(i, total))\n",
    "    pp.savefig(visit(*pths))\n",
    "\n",
    "pp.close()"
   ]
  },
  {
   "cell_type": "code",
   "execution_count": null,
   "metadata": {},
   "outputs": [],
   "source": []
  }
 ],
 "metadata": {
  "kernelspec": {
   "display_name": "Python 3",
   "language": "python",
   "name": "python3"
  },
  "language_info": {
   "codemirror_mode": {
    "name": "ipython",
    "version": 3
   },
   "file_extension": ".py",
   "mimetype": "text/x-python",
   "name": "python",
   "nbconvert_exporter": "python",
   "pygments_lexer": "ipython3",
   "version": "3.7.5"
  }
 },
 "nbformat": 4,
 "nbformat_minor": 4
}
