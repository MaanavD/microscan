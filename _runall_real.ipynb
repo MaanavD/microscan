{
 "cells": [
  {
   "cell_type": "code",
   "execution_count": 4,
   "metadata": {},
   "outputs": [
    {
     "name": "stdout",
     "output_type": "stream",
     "text": [
      "9\n"
     ]
    }
   ],
   "source": [
    "import cv2\n",
    "import glob\n",
    "import numpy as np\n",
    "import matplotlib.pyplot as plt\n",
    "from matplotlib.backends.backend_pdf import PdfPages\n",
    "from flaskapp.imaging import MicroStructure\n",
    "\n",
    "dir_path = \"data/curated\"\n",
    "img_paths = sorted(glob.glob(\"{}/*.jpg\".format(dir_path)))\n",
    "# gb_mask_paths = sorted(glob.glob(\"{}/gbmask_*.png\".format(dir_path)))\n",
    "# lam_mask_paths = sorted(glob.glob(\"{}/lammask_*.png\".format(dir_path)))\n",
    "# p1_mask_paths = sorted(glob.glob(\"{}/p1mask_*.png\".format(dir_path)))\n",
    "# p2_mask_paths = sorted(glob.glob(\"{}/p2mask_*.png\".format(dir_path)))\n",
    "\n",
    "print(len(img_paths))\n",
    "# print(len(gb_mask_paths))\n",
    "# print(len(lam_mask_paths))\n",
    "# print(len(p1_mask_paths))\n",
    "# print(len(p2_mask_paths))\n",
    "\n",
    "# assert len(img_paths) == len(gb_mask_paths) == len(lam_mask_paths) == len(p1_mask_paths) == len(p2_mask_paths)\n",
    "\n",
    "# plot_all([img, gb_mask, prec_mask, lam_mask, p1_mask, p2_mask])"
   ]
  },
  {
   "cell_type": "code",
   "execution_count": 5,
   "metadata": {},
   "outputs": [],
   "source": [
    "def visit(img_path):\n",
    "    mc = MicroStructure(img_path)\n",
    "    \n",
    "    img = cv2.imread(img_path, cv2.IMREAD_GRAYSCALE)\n",
    "    \n",
    "    images = (\n",
    "        mc.grain_mask, \n",
    "        mc.line_mask, \n",
    "        mc.dark_mask, \n",
    "        mc.white_mask\n",
    "    )\n",
    "    titles = ( \n",
    "        \"predicted grain boundary\",\n",
    "        \"predicted line phase\",\n",
    "        \"predicted dark phase\",\n",
    "        \"predicted white phase\",\n",
    "    )\n",
    "    \n",
    "    columns = 2\n",
    "    rows = 3\n",
    "    fig, axs = plt.subplots(rows, columns, figsize=(30,18*3-9), constrained_layout=True)\n",
    "    fig.suptitle(img_path, fontsize=30)\n",
    "    axs = axs.flatten()\n",
    "    \n",
    "    axs[0].imshow(img, cmap=\"gray\")\n",
    "    axs[0].set_title(\"original\")\n",
    "    axs[0].axis('off')\n",
    "    \n",
    "    table_data=[\n",
    "        [\"metric\",  \"predicted\"],\n",
    "        [\"dark frac\", \"%.3f\"%mc.dark_fraction],\n",
    "        [\"white frac\", \"%.3f\"%mc.light_fraction],\n",
    "        [\"line frac\",  \"%.3f\"%mc.line_fraction],\n",
    "        [\"ave grain diameter\", \"%.3f\"%mc.average_grain_diameter],\n",
    "    ]\n",
    "    table = axs[1].table(cellText=table_data, loc='best')\n",
    "    table.set_fontsize(16)\n",
    "    table.scale(1,3)\n",
    "    axs[1].set_title(\"metrics\")\n",
    "    axs[1].axis('off')\n",
    "    \n",
    "    for ax, image, title in zip(axs[2:], images, titles):\n",
    "        ax.imshow(image, cmap=\"gray\")\n",
    "        ax.set_title(title)\n",
    "        ax.axis('off')\n",
    "    \n",
    "    return fig"
   ]
  },
  {
   "cell_type": "code",
   "execution_count": 6,
   "metadata": {},
   "outputs": [
    {
     "name": "stdout",
     "output_type": "stream",
     "text": [
      "0/9\n"
     ]
    },
    {
     "name": "stderr",
     "output_type": "stream",
     "text": [
      "/Users/jay/.pyenv/versions/3.7.5/envs/microscan/lib/python3.7/site-packages/ipykernel_launcher.py:21: RuntimeWarning: More than 20 figures have been opened. Figures created through the pyplot interface (`matplotlib.pyplot.figure`) are retained until explicitly closed and may consume too much memory. (To control this warning, see the rcParam `figure.max_open_warning`).\n"
     ]
    }
   ],
   "source": [
    "pp = PdfPages('results_real.pdf')\n",
    "\n",
    "total = len(img_paths)\n",
    "for i,pth in enumerate(img_paths):\n",
    "    if i % 10 == 0:\n",
    "        print(\"{}/{}\".format(i, total))\n",
    "    pp.savefig(visit(pth))\n",
    "\n",
    "pp.close()"
   ]
  },
  {
   "cell_type": "code",
   "execution_count": null,
   "metadata": {},
   "outputs": [],
   "source": []
  }
 ],
 "metadata": {
  "kernelspec": {
   "display_name": "Python 3",
   "language": "python",
   "name": "python3"
  },
  "language_info": {
   "codemirror_mode": {
    "name": "ipython",
    "version": 3
   },
   "file_extension": ".py",
   "mimetype": "text/x-python",
   "name": "python",
   "nbconvert_exporter": "python",
   "pygments_lexer": "ipython3",
   "version": "3.7.5"
  }
 },
 "nbformat": 4,
 "nbformat_minor": 4
}
